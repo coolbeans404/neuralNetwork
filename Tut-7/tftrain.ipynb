{
 "cells": [
  {
   "cell_type": "code",
   "execution_count": 3,
   "metadata": {},
   "outputs": [],
   "source": [
    "import tensorflow as tf\n",
    "import json"
   ]
  },
  {
   "cell_type": "code",
   "execution_count": 4,
   "metadata": {},
   "outputs": [
    {
     "name": "stdout",
     "output_type": "stream",
     "text": [
      "Downloading data from https://storage.googleapis.com/tensorflow/tf-keras-datasets/mnist.npz\n",
      "11493376/11490434 [==============================] - 0s 0us/step\n",
      "11501568/11490434 [==============================] - 0s 0us/step\n"
     ]
    }
   ],
   "source": [
    "mnist = tf.keras.datasets.mnist\n",
    "(x_train, y_train), (x_test,y_test) = mnist.load_data()\n",
    "x_train = tf.keras.utils.normalize(x_train, axis=1)\n",
    "x_test = tf.keras.utils.normalize(x_test, axis=1)\n",
    "\n",
    "model = tf.keras.models.Sequential()\n",
    "model.add(tf.keras.layers.Flatten())\n",
    "model.add(tf.keras.layers.Dense(30,activation=tf.nn.sigmoid))\n",
    "model.add(tf.keras.layers.Dense(30,activation=tf.nn.sigmoid))\n",
    "model.add(tf.keras.layers.Dense(10,activation=tf.nn.sigmoid))\n",
    "model.add(tf.keras.layers.Dense(10,activation=tf.nn.sigmoid))"
   ]
  },
  {
   "cell_type": "code",
   "execution_count": 5,
   "metadata": {},
   "outputs": [
    {
     "name": "stdout",
     "output_type": "stream",
     "text": [
      "Epoch 1/20\n",
      "1875/1875 [==============================] - 2s 765us/step - loss: 1.5137 - accuracy: 0.5327\n",
      "Epoch 2/20\n",
      "1875/1875 [==============================] - 2s 814us/step - loss: 0.6743 - accuracy: 0.8346\n",
      "Epoch 3/20\n",
      "1875/1875 [==============================] - 1s 784us/step - loss: 0.4036 - accuracy: 0.9080\n",
      "Epoch 4/20\n",
      "1875/1875 [==============================] - 1s 760us/step - loss: 0.2981 - accuracy: 0.9288\n",
      "Epoch 5/20\n",
      "1875/1875 [==============================] - 1s 754us/step - loss: 0.2481 - accuracy: 0.9391\n",
      "Epoch 6/20\n",
      "1875/1875 [==============================] - 1s 793us/step - loss: 0.2171 - accuracy: 0.9451\n",
      "Epoch 7/20\n",
      "1875/1875 [==============================] - 1s 751us/step - loss: 0.1953 - accuracy: 0.9501\n",
      "Epoch 8/20\n",
      "1875/1875 [==============================] - 1s 758us/step - loss: 0.1770 - accuracy: 0.9543\n",
      "Epoch 9/20\n",
      "1875/1875 [==============================] - 1s 765us/step - loss: 0.1629 - accuracy: 0.9573\n",
      "Epoch 10/20\n",
      "1875/1875 [==============================] - 1s 780us/step - loss: 0.1506 - accuracy: 0.9607\n",
      "Epoch 11/20\n",
      "1875/1875 [==============================] - 1s 778us/step - loss: 0.1402 - accuracy: 0.9633\n",
      "Epoch 12/20\n",
      "1875/1875 [==============================] - 1s 770us/step - loss: 0.1314 - accuracy: 0.9651\n",
      "Epoch 13/20\n",
      "1875/1875 [==============================] - 1s 775us/step - loss: 0.1230 - accuracy: 0.9674\n",
      "Epoch 14/20\n",
      "1875/1875 [==============================] - 1s 791us/step - loss: 0.1163 - accuracy: 0.9692\n",
      "Epoch 15/20\n",
      "1875/1875 [==============================] - 1s 770us/step - loss: 0.1092 - accuracy: 0.9709\n",
      "Epoch 16/20\n",
      "1875/1875 [==============================] - 1s 774us/step - loss: 0.1037 - accuracy: 0.9727\n",
      "Epoch 17/20\n",
      "1875/1875 [==============================] - 1s 763us/step - loss: 0.0988 - accuracy: 0.9737\n",
      "Epoch 18/20\n",
      "1875/1875 [==============================] - 1s 772us/step - loss: 0.0932 - accuracy: 0.9751\n",
      "Epoch 19/20\n",
      "1875/1875 [==============================] - 2s 830us/step - loss: 0.0887 - accuracy: 0.9761\n",
      "Epoch 20/20\n",
      "1875/1875 [==============================] - 1s 747us/step - loss: 0.0845 - accuracy: 0.9774\n",
      "313/313 [==============================] - 0s 617us/step - loss: 0.1693 - accuracy: 0.9523\n"
     ]
    }
   ],
   "source": [
    "model.compile(optimizer='adam',\n",
    "             loss='sparse_categorical_crossentropy',\n",
    "             metrics=['accuracy'])\n",
    "model.fit(x_train,y_train,epochs=20)\n",
    "(val_loss,val_accuracy) = model.evaluate(x_test,y_test)"
   ]
  },
  {
   "cell_type": "code",
   "execution_count": 7,
   "metadata": {},
   "outputs": [],
   "source": [
    "weightList = []\n",
    "biasList = []\n",
    "for i in range(1,len(model.layers)):\n",
    "    weights = model.layers[i].get_weights()[0]\n",
    "    weightList.append((weights.T).tolist())\n",
    "    bias = [[float(b)] for b in model.layers[i].get_weights()[1]]\n",
    "    biasList.append(bias)"
   ]
  },
  {
   "cell_type": "code",
   "execution_count": 8,
   "metadata": {},
   "outputs": [],
   "source": [
    "data = {\"weights\": weightList,\"biases\":biasList}\n",
    "f = open('weightsandbiases.txt', \"w\")\n",
    "json.dump(data, f)\n",
    "f.close()"
   ]
  }
 ],
 "metadata": {
  "interpreter": {
   "hash": "eb0481407d97aac6e0c00625ae34a76774e40243aaa440c45e633651bd75ee1d"
  },
  "kernelspec": {
   "display_name": "Python 3.10.2 64-bit (windows store)",
   "language": "python",
   "name": "python3"
  },
  "language_info": {
   "codemirror_mode": {
    "name": "ipython",
    "version": 3
   },
   "file_extension": ".py",
   "mimetype": "text/x-python",
   "name": "python",
   "nbconvert_exporter": "python",
   "pygments_lexer": "ipython3",
   "version": "3.10.2"
  },
  "orig_nbformat": 4
 },
 "nbformat": 4,
 "nbformat_minor": 2
}
